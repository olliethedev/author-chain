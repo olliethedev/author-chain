{
 "cells": [
  {
   "attachments": {},
   "cell_type": "markdown",
   "metadata": {},
   "source": [
    "# Initial setup\n",
    "\n",
    "To start we import the necessary libraries and set environment variables"
   ]
  },
  {
   "cell_type": "code",
   "execution_count": null,
   "metadata": {},
   "outputs": [],
   "source": [
    "%pip install -r requirements.txt\n",
    "\n",
    "import os\n",
    "\n",
    "#https://platform.openai.com/docs/api-reference/authentication\n",
    "os.environ[\"OPENAI_API_KEY\"] = \"YOUR OPENAI API KEY\"\n",
    "#https://developers.google.com/custom-search/v1/overview\n",
    "os.environ[\"GOOGLE_CSE_ID\"] = \"YOUR GOOGLE CUSTOM SEARCH ENGINE ID\"\n",
    "#https://support.google.com/googleapi/answer/6158862?hl=en\n",
    "os.environ[\"GOOGLE_API_KEY\"] = \"YOUR GOOGLE API KEY\"\n"
   ]
  },
  {
   "attachments": {},
   "cell_type": "markdown",
   "metadata": {},
   "source": [
    "# Main Work\n",
    "Searches for sources, writes first draft, reflects on first draft, researches missing concepts, writes final draft, refactors final draft."
   ]
  },
  {
   "cell_type": "code",
   "execution_count": null,
   "metadata": {},
   "outputs": [],
   "source": [
    "from main import create_article\n",
    "\n",
    "create_article(\"Langchain Agents\")"
   ]
  },
  {
   "attachments": {},
   "cell_type": "markdown",
   "metadata": {},
   "source": [
    "# Save to CMS\n",
    "\n",
    "Creates SEO data from the article and uploads to CMS\n",
    "\n",
    "### Note\n",
    "You will need to add your cms api call to the process_folder function"
   ]
  },
  {
   "cell_type": "code",
   "execution_count": null,
   "metadata": {},
   "outputs": [],
   "source": [
    "from main import get_folders, process_folder\n",
    "\n",
    "folders = get_folders()\n",
    "for folder in folders:\n",
    "    print(folder)\n",
    "    process_folder(folder)"
   ]
  }
 ],
 "metadata": {
  "kernelspec": {
   "display_name": "Python 3",
   "language": "python",
   "name": "python3"
  },
  "language_info": {
   "codemirror_mode": {
    "name": "ipython",
    "version": 3
   },
   "file_extension": ".py",
   "mimetype": "text/x-python",
   "name": "python",
   "nbconvert_exporter": "python",
   "pygments_lexer": "ipython3",
   "version": "3.10.2"
  },
  "orig_nbformat": 4
 },
 "nbformat": 4,
 "nbformat_minor": 2
}
